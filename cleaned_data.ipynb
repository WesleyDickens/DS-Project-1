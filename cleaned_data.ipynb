{
 "cells": [
  {
   "cell_type": "code",
   "execution_count": 23,
   "metadata": {},
   "outputs": [],
   "source": [
    "import pandas as pd\n",
    "import numpy as np\n",
    "import matplotlib.pyplot as plt\n",
    "import csv"
   ]
  },
  {
   "cell_type": "code",
   "execution_count": 24,
   "metadata": {},
   "outputs": [],
   "source": [
    "df = pd.read_csv('AviationData.csv', encoding ='cp1252',low_memory=False)\n",
    "\n",
    "df['Event.Date'] = pd.to_datetime(df['Event.Date'],format='%Y-%m-%d')\n",
    "\n",
    "df['Year'] = df['Event.Date'].dt.year"
   ]
  },
  {
   "cell_type": "code",
   "execution_count": 25,
   "metadata": {},
   "outputs": [],
   "source": [
    "cols_to_drop = ['Air.carrier', 'Purpose.of.flight', 'Latitude' , 'Longitude', 'Publication.Date', 'Accident.Number', 'Event.Id', 'Airport.Code' , 'Airport.Name' , 'Registration.Number' , 'FAR.Description']"
   ]
  },
  {
   "cell_type": "code",
   "execution_count": 26,
   "metadata": {},
   "outputs": [
    {
     "name": "stderr",
     "output_type": "stream",
     "text": [
      "/var/folders/_x/3hvhfs550_j07qx5c00fkgnc0000gn/T/ipykernel_41191/2810361464.py:5: SettingWithCopyWarning: \n",
      "A value is trying to be set on a copy of a slice from a DataFrame.\n",
      "Try using .loc[row_indexer,col_indexer] = value instead\n",
      "\n",
      "See the caveats in the documentation: https://pandas.pydata.org/pandas-docs/stable/user_guide/indexing.html#returning-a-view-versus-a-copy\n",
      "  df_clean_rows['Total.Fatal.Injuries'] = df_clean_rows['Total.Fatal.Injuries'].fillna(0)\n",
      "/var/folders/_x/3hvhfs550_j07qx5c00fkgnc0000gn/T/ipykernel_41191/2810361464.py:6: SettingWithCopyWarning: \n",
      "A value is trying to be set on a copy of a slice from a DataFrame.\n",
      "Try using .loc[row_indexer,col_indexer] = value instead\n",
      "\n",
      "See the caveats in the documentation: https://pandas.pydata.org/pandas-docs/stable/user_guide/indexing.html#returning-a-view-versus-a-copy\n",
      "  df_clean_rows['Total.Serious.Injuries'] = df_clean_rows['Total.Serious.Injuries'].fillna(0)\n",
      "/var/folders/_x/3hvhfs550_j07qx5c00fkgnc0000gn/T/ipykernel_41191/2810361464.py:7: SettingWithCopyWarning: \n",
      "A value is trying to be set on a copy of a slice from a DataFrame.\n",
      "Try using .loc[row_indexer,col_indexer] = value instead\n",
      "\n",
      "See the caveats in the documentation: https://pandas.pydata.org/pandas-docs/stable/user_guide/indexing.html#returning-a-view-versus-a-copy\n",
      "  df_clean_rows['Total.Minor.Injuries'] = df_clean_rows['Total.Minor.Injuries'].fillna(0)\n",
      "/var/folders/_x/3hvhfs550_j07qx5c00fkgnc0000gn/T/ipykernel_41191/2810361464.py:8: SettingWithCopyWarning: \n",
      "A value is trying to be set on a copy of a slice from a DataFrame.\n",
      "Try using .loc[row_indexer,col_indexer] = value instead\n",
      "\n",
      "See the caveats in the documentation: https://pandas.pydata.org/pandas-docs/stable/user_guide/indexing.html#returning-a-view-versus-a-copy\n",
      "  df_clean_rows['Total.Uninjured'] = df_clean_rows['Total.Uninjured'].fillna(0)\n",
      "/var/folders/_x/3hvhfs550_j07qx5c00fkgnc0000gn/T/ipykernel_41191/2810361464.py:12: SettingWithCopyWarning: \n",
      "A value is trying to be set on a copy of a slice from a DataFrame.\n",
      "Try using .loc[row_indexer,col_indexer] = value instead\n",
      "\n",
      "See the caveats in the documentation: https://pandas.pydata.org/pandas-docs/stable/user_guide/indexing.html#returning-a-view-versus-a-copy\n",
      "  df_clean_rows['Make and Model']= df_clean_rows['Make']+\"-\"+df_clean_rows['Model']\n",
      "/var/folders/_x/3hvhfs550_j07qx5c00fkgnc0000gn/T/ipykernel_41191/2810361464.py:15: SettingWithCopyWarning: \n",
      "A value is trying to be set on a copy of a slice from a DataFrame.\n",
      "Try using .loc[row_indexer,col_indexer] = value instead\n",
      "\n",
      "See the caveats in the documentation: https://pandas.pydata.org/pandas-docs/stable/user_guide/indexing.html#returning-a-view-versus-a-copy\n",
      "  df_clean_rows['Total_passengers'] = total_passengers\n",
      "/var/folders/_x/3hvhfs550_j07qx5c00fkgnc0000gn/T/ipykernel_41191/2810361464.py:20: SettingWithCopyWarning: \n",
      "A value is trying to be set on a copy of a slice from a DataFrame.\n",
      "Try using .loc[row_indexer,col_indexer] = value instead\n",
      "\n",
      "See the caveats in the documentation: https://pandas.pydata.org/pandas-docs/stable/user_guide/indexing.html#returning-a-view-versus-a-copy\n",
      "  df_clean_rows['Fatality_Pecentage'] = dead_pass\n",
      "/var/folders/_x/3hvhfs550_j07qx5c00fkgnc0000gn/T/ipykernel_41191/2810361464.py:21: SettingWithCopyWarning: \n",
      "A value is trying to be set on a copy of a slice from a DataFrame.\n",
      "Try using .loc[row_indexer,col_indexer] = value instead\n",
      "\n",
      "See the caveats in the documentation: https://pandas.pydata.org/pandas-docs/stable/user_guide/indexing.html#returning-a-view-versus-a-copy\n",
      "  df_clean_rows['Serious_Inj_Percentage'] = Injured_pass\n",
      "/var/folders/_x/3hvhfs550_j07qx5c00fkgnc0000gn/T/ipykernel_41191/2810361464.py:22: SettingWithCopyWarning: \n",
      "A value is trying to be set on a copy of a slice from a DataFrame.\n",
      "Try using .loc[row_indexer,col_indexer] = value instead\n",
      "\n",
      "See the caveats in the documentation: https://pandas.pydata.org/pandas-docs/stable/user_guide/indexing.html#returning-a-view-versus-a-copy\n",
      "  df_clean_rows['Minor/NonInj_Percentage'] = Safe_pass\n"
     ]
    }
   ],
   "source": [
    "df_clean_cols = df.drop(cols_to_drop, axis=1)\n",
    "\n",
    "df_clean_rows = df_clean_cols[(df_clean_cols['Amateur.Built'] != 'Yes')]\n",
    "\n",
    "df_clean_rows['Total.Fatal.Injuries'] = df_clean_rows['Total.Fatal.Injuries'].fillna(0)\n",
    "df_clean_rows['Total.Serious.Injuries'] = df_clean_rows['Total.Serious.Injuries'].fillna(0)\n",
    "df_clean_rows['Total.Minor.Injuries'] = df_clean_rows['Total.Minor.Injuries'].fillna(0)\n",
    "df_clean_rows['Total.Uninjured'] = df_clean_rows['Total.Uninjured'].fillna(0)\n",
    "\n",
    "\n",
    "total_passengers = df_clean_rows['Total.Fatal.Injuries'] + df_clean_rows['Total.Serious.Injuries'] + df_clean_rows['Total.Minor.Injuries'] + df_clean_rows['Total.Uninjured']\n",
    "df_clean_rows['Make and Model']= df_clean_rows['Make']+\"-\"+df_clean_rows['Model']\n",
    "\n",
    "\n",
    "df_clean_rows['Total_passengers'] = total_passengers\n",
    "Safe_pass = (df_clean_rows['Total.Minor.Injuries'] + df_clean_rows['Total.Uninjured']) / (df_clean_rows['Total_passengers']) * 100\n",
    "Injured_pass = (df_clean_rows['Total.Serious.Injuries'] / df_clean_rows['Total_passengers']) * 100\n",
    "dead_pass = (df_clean_rows['Total.Fatal.Injuries'] / df_clean_rows['Total_passengers']) * 100\n",
    "\n",
    "df_clean_rows['Fatality_Pecentage'] = dead_pass\n",
    "df_clean_rows['Serious_Inj_Percentage'] = Injured_pass\n",
    "df_clean_rows['Minor/NonInj_Percentage'] = Safe_pass\n",
    "\n",
    "df_clean_pass_nas = df_clean_rows.dropna(subset= ['Total_passengers'])\n",
    "\n",
    "df_clean_pass_zeros = df_clean_pass_nas.drop(df_clean_pass_nas[df_clean_pass_nas['Total_passengers'] == 0].index, axis = 0)"
   ]
  },
  {
   "cell_type": "code",
   "execution_count": 27,
   "metadata": {},
   "outputs": [],
   "source": [
    "df_clean_pass_zeros.to_csv('AviationDataCleaned.csv')"
   ]
  },
  {
   "cell_type": "code",
   "execution_count": null,
   "metadata": {},
   "outputs": [],
   "source": []
  }
 ],
 "metadata": {
  "kernelspec": {
   "display_name": "Python 3 (ipykernel)",
   "language": "python",
   "name": "python3"
  },
  "language_info": {
   "codemirror_mode": {
    "name": "ipython",
    "version": 3
   },
   "file_extension": ".py",
   "mimetype": "text/x-python",
   "name": "python",
   "nbconvert_exporter": "python",
   "pygments_lexer": "ipython3",
   "version": "3.11.5"
  }
 },
 "nbformat": 4,
 "nbformat_minor": 4
}

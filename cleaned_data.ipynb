{
 "cells": [
  {
   "cell_type": "code",
   "execution_count": 8,
   "metadata": {},
   "outputs": [],
   "source": [
    "import pandas as pd\n",
    "import numpy as np\n",
    "import matplotlib.pyplot as plt\n",
    "import csv\n"
   ]
  },
  {
   "cell_type": "code",
   "execution_count": 9,
   "metadata": {},
   "outputs": [
    {
     "name": "stdout",
     "output_type": "stream",
     "text": [
      "<class 'pandas.core.frame.DataFrame'>\n",
      "RangeIndex: 88889 entries, 0 to 88888\n",
      "Data columns (total 32 columns):\n",
      " #   Column                  Non-Null Count  Dtype         \n",
      "---  ------                  --------------  -----         \n",
      " 0   Event.Id                88889 non-null  object        \n",
      " 1   Investigation.Type      88889 non-null  object        \n",
      " 2   Accident.Number         88889 non-null  object        \n",
      " 3   Event.Date              88889 non-null  datetime64[ns]\n",
      " 4   Location                88837 non-null  object        \n",
      " 5   Country                 88663 non-null  object        \n",
      " 6   Latitude                34382 non-null  object        \n",
      " 7   Longitude               34373 non-null  object        \n",
      " 8   Airport.Code            50132 non-null  object        \n",
      " 9   Airport.Name            52704 non-null  object        \n",
      " 10  Injury.Severity         87889 non-null  object        \n",
      " 11  Aircraft.damage         85695 non-null  object        \n",
      " 12  Aircraft.Category       32287 non-null  object        \n",
      " 13  Registration.Number     87507 non-null  object        \n",
      " 14  Make                    88826 non-null  object        \n",
      " 15  Model                   88797 non-null  object        \n",
      " 16  Amateur.Built           88787 non-null  object        \n",
      " 17  Number.of.Engines       82805 non-null  float64       \n",
      " 18  Engine.Type             81793 non-null  object        \n",
      " 19  FAR.Description         32023 non-null  object        \n",
      " 20  Schedule                12582 non-null  object        \n",
      " 21  Purpose.of.flight       82697 non-null  object        \n",
      " 22  Air.carrier             16648 non-null  object        \n",
      " 23  Total.Fatal.Injuries    77488 non-null  float64       \n",
      " 24  Total.Serious.Injuries  76379 non-null  float64       \n",
      " 25  Total.Minor.Injuries    76956 non-null  float64       \n",
      " 26  Total.Uninjured         82977 non-null  float64       \n",
      " 27  Weather.Condition       84397 non-null  object        \n",
      " 28  Broad.phase.of.flight   61724 non-null  object        \n",
      " 29  Report.Status           82505 non-null  object        \n",
      " 30  Publication.Date        75118 non-null  object        \n",
      " 31  Year                    88889 non-null  int32         \n",
      "dtypes: datetime64[ns](1), float64(5), int32(1), object(25)\n",
      "memory usage: 21.4+ MB\n"
     ]
    }
   ],
   "source": [
    "df = pd.read_csv('AviationData.csv', encoding ='cp1252',low_memory=False)\n",
    "\n",
    "df['Event.Date'] = pd.to_datetime(df['Event.Date'],format='%Y-%m-%d')\n",
    "\n",
    "df['Year'] = df['Event.Date'].dt.year\n",
    "\n",
    "df.info()"
   ]
  },
  {
   "cell_type": "code",
   "execution_count": 10,
   "metadata": {},
   "outputs": [],
   "source": [
    "cols_to_drop = ['Air.carrier', 'Purpose.of.flight', 'Latitude' , 'Longitude', 'Publication.Date', 'Accident.Number', 'Event.Id', 'Airport.Code' , 'Airport.Name' , 'Registration.Number' , 'FAR.Description']\n",
    "df_clean_cols = df.drop(cols_to_drop, axis=1)"
   ]
  },
  {
   "cell_type": "code",
   "execution_count": 11,
   "metadata": {},
   "outputs": [
    {
     "name": "stdout",
     "output_type": "stream",
     "text": [
      "<class 'pandas.core.frame.DataFrame'>\n",
      "Index: 80414 entries, 0 to 88888\n",
      "Data columns (total 21 columns):\n",
      " #   Column                  Non-Null Count  Dtype         \n",
      "---  ------                  --------------  -----         \n",
      " 0   Investigation.Type      80414 non-null  object        \n",
      " 1   Event.Date              80414 non-null  datetime64[ns]\n",
      " 2   Location                80363 non-null  object        \n",
      " 3   Country                 80194 non-null  object        \n",
      " 4   Injury.Severity         79415 non-null  object        \n",
      " 5   Aircraft.damage         77249 non-null  object        \n",
      " 6   Aircraft.Category       28740 non-null  object        \n",
      " 7   Make                    80366 non-null  object        \n",
      " 8   Model                   80345 non-null  object        \n",
      " 9   Amateur.Built           80312 non-null  object        \n",
      " 10  Number.of.Engines       74626 non-null  float64       \n",
      " 11  Engine.Type             73651 non-null  object        \n",
      " 12  Schedule                12340 non-null  object        \n",
      " 13  Total.Fatal.Injuries    70189 non-null  float64       \n",
      " 14  Total.Serious.Injuries  69239 non-null  float64       \n",
      " 15  Total.Minor.Injuries    69762 non-null  float64       \n",
      " 16  Total.Uninjured         75457 non-null  float64       \n",
      " 17  Weather.Condition       76002 non-null  object        \n",
      " 18  Broad.phase.of.flight   56165 non-null  object        \n",
      " 19  Report.Status           74378 non-null  object        \n",
      " 20  Year                    80414 non-null  int32         \n",
      "dtypes: datetime64[ns](1), float64(5), int32(1), object(14)\n",
      "memory usage: 13.2+ MB\n"
     ]
    }
   ],
   "source": [
    "df_clean_rows = df_clean_cols[(df_clean_cols['Amateur.Built'] != 'Yes')]\n",
    "df_clean_rows.info()"
   ]
  },
  {
   "cell_type": "code",
   "execution_count": 12,
   "metadata": {},
   "outputs": [
    {
     "name": "stdout",
     "output_type": "stream",
     "text": [
      "<class 'pandas.core.frame.DataFrame'>\n",
      "Index: 80414 entries, 0 to 88888\n",
      "Data columns (total 26 columns):\n",
      " #   Column                   Non-Null Count  Dtype         \n",
      "---  ------                   --------------  -----         \n",
      " 0   Investigation.Type       80414 non-null  object        \n",
      " 1   Event.Date               80414 non-null  datetime64[ns]\n",
      " 2   Location                 80363 non-null  object        \n",
      " 3   Country                  80194 non-null  object        \n",
      " 4   Injury.Severity          79415 non-null  object        \n",
      " 5   Aircraft.damage          77249 non-null  object        \n",
      " 6   Aircraft.Category        28740 non-null  object        \n",
      " 7   Make                     80366 non-null  object        \n",
      " 8   Model                    80345 non-null  object        \n",
      " 9   Amateur.Built            80312 non-null  object        \n",
      " 10  Number.of.Engines        74626 non-null  float64       \n",
      " 11  Engine.Type              73651 non-null  object        \n",
      " 12  Schedule                 12340 non-null  object        \n",
      " 13  Total.Fatal.Injuries     80414 non-null  float64       \n",
      " 14  Total.Serious.Injuries   80414 non-null  float64       \n",
      " 15  Total.Minor.Injuries     80414 non-null  float64       \n",
      " 16  Total.Uninjured          80414 non-null  float64       \n",
      " 17  Weather.Condition        76002 non-null  object        \n",
      " 18  Broad.phase.of.flight    56165 non-null  object        \n",
      " 19  Report.Status            74378 non-null  object        \n",
      " 20  Year                     80414 non-null  int32         \n",
      " 21  Make and Model           80339 non-null  object        \n",
      " 22  Total_passengers         80414 non-null  float64       \n",
      " 23  Fatality_Pecentage       79118 non-null  float64       \n",
      " 24  Serious_Inj_Percentage   79118 non-null  float64       \n",
      " 25  Minor/NonInj_Percentage  79118 non-null  float64       \n",
      "dtypes: datetime64[ns](1), float64(9), int32(1), object(15)\n",
      "memory usage: 16.3+ MB\n"
     ]
    },
    {
     "name": "stderr",
     "output_type": "stream",
     "text": [
      "/var/folders/_x/3hvhfs550_j07qx5c00fkgnc0000gn/T/ipykernel_24763/4159938548.py:1: SettingWithCopyWarning: \n",
      "A value is trying to be set on a copy of a slice from a DataFrame.\n",
      "Try using .loc[row_indexer,col_indexer] = value instead\n",
      "\n",
      "See the caveats in the documentation: https://pandas.pydata.org/pandas-docs/stable/user_guide/indexing.html#returning-a-view-versus-a-copy\n",
      "  df_clean_rows['Total.Fatal.Injuries'] = df_clean_rows['Total.Fatal.Injuries'].fillna(0)\n",
      "/var/folders/_x/3hvhfs550_j07qx5c00fkgnc0000gn/T/ipykernel_24763/4159938548.py:2: SettingWithCopyWarning: \n",
      "A value is trying to be set on a copy of a slice from a DataFrame.\n",
      "Try using .loc[row_indexer,col_indexer] = value instead\n",
      "\n",
      "See the caveats in the documentation: https://pandas.pydata.org/pandas-docs/stable/user_guide/indexing.html#returning-a-view-versus-a-copy\n",
      "  df_clean_rows['Total.Serious.Injuries'] = df_clean_rows['Total.Serious.Injuries'].fillna(0)\n",
      "/var/folders/_x/3hvhfs550_j07qx5c00fkgnc0000gn/T/ipykernel_24763/4159938548.py:3: SettingWithCopyWarning: \n",
      "A value is trying to be set on a copy of a slice from a DataFrame.\n",
      "Try using .loc[row_indexer,col_indexer] = value instead\n",
      "\n",
      "See the caveats in the documentation: https://pandas.pydata.org/pandas-docs/stable/user_guide/indexing.html#returning-a-view-versus-a-copy\n",
      "  df_clean_rows['Total.Minor.Injuries'] = df_clean_rows['Total.Minor.Injuries'].fillna(0)\n",
      "/var/folders/_x/3hvhfs550_j07qx5c00fkgnc0000gn/T/ipykernel_24763/4159938548.py:4: SettingWithCopyWarning: \n",
      "A value is trying to be set on a copy of a slice from a DataFrame.\n",
      "Try using .loc[row_indexer,col_indexer] = value instead\n",
      "\n",
      "See the caveats in the documentation: https://pandas.pydata.org/pandas-docs/stable/user_guide/indexing.html#returning-a-view-versus-a-copy\n",
      "  df_clean_rows['Total.Uninjured'] = df_clean_rows['Total.Uninjured'].fillna(0)\n",
      "/var/folders/_x/3hvhfs550_j07qx5c00fkgnc0000gn/T/ipykernel_24763/4159938548.py:8: SettingWithCopyWarning: \n",
      "A value is trying to be set on a copy of a slice from a DataFrame.\n",
      "Try using .loc[row_indexer,col_indexer] = value instead\n",
      "\n",
      "See the caveats in the documentation: https://pandas.pydata.org/pandas-docs/stable/user_guide/indexing.html#returning-a-view-versus-a-copy\n",
      "  df_clean_rows['Make and Model']= df_clean_rows['Make']+\"-\"+df_clean_rows['Model']\n",
      "/var/folders/_x/3hvhfs550_j07qx5c00fkgnc0000gn/T/ipykernel_24763/4159938548.py:11: SettingWithCopyWarning: \n",
      "A value is trying to be set on a copy of a slice from a DataFrame.\n",
      "Try using .loc[row_indexer,col_indexer] = value instead\n",
      "\n",
      "See the caveats in the documentation: https://pandas.pydata.org/pandas-docs/stable/user_guide/indexing.html#returning-a-view-versus-a-copy\n",
      "  df_clean_rows['Total_passengers'] = total_passengers\n",
      "/var/folders/_x/3hvhfs550_j07qx5c00fkgnc0000gn/T/ipykernel_24763/4159938548.py:16: SettingWithCopyWarning: \n",
      "A value is trying to be set on a copy of a slice from a DataFrame.\n",
      "Try using .loc[row_indexer,col_indexer] = value instead\n",
      "\n",
      "See the caveats in the documentation: https://pandas.pydata.org/pandas-docs/stable/user_guide/indexing.html#returning-a-view-versus-a-copy\n",
      "  df_clean_rows['Fatality_Pecentage'] = dead_pass\n",
      "/var/folders/_x/3hvhfs550_j07qx5c00fkgnc0000gn/T/ipykernel_24763/4159938548.py:17: SettingWithCopyWarning: \n",
      "A value is trying to be set on a copy of a slice from a DataFrame.\n",
      "Try using .loc[row_indexer,col_indexer] = value instead\n",
      "\n",
      "See the caveats in the documentation: https://pandas.pydata.org/pandas-docs/stable/user_guide/indexing.html#returning-a-view-versus-a-copy\n",
      "  df_clean_rows['Serious_Inj_Percentage'] = Injured_pass\n",
      "/var/folders/_x/3hvhfs550_j07qx5c00fkgnc0000gn/T/ipykernel_24763/4159938548.py:18: SettingWithCopyWarning: \n",
      "A value is trying to be set on a copy of a slice from a DataFrame.\n",
      "Try using .loc[row_indexer,col_indexer] = value instead\n",
      "\n",
      "See the caveats in the documentation: https://pandas.pydata.org/pandas-docs/stable/user_guide/indexing.html#returning-a-view-versus-a-copy\n",
      "  df_clean_rows['Minor/NonInj_Percentage'] = Safe_pass\n"
     ]
    }
   ],
   "source": [
    "\n",
    "df_clean_rows['Total.Fatal.Injuries'] = df_clean_rows['Total.Fatal.Injuries'].fillna(0)\n",
    "df_clean_rows['Total.Serious.Injuries'] = df_clean_rows['Total.Serious.Injuries'].fillna(0)\n",
    "df_clean_rows['Total.Minor.Injuries'] = df_clean_rows['Total.Minor.Injuries'].fillna(0)\n",
    "df_clean_rows['Total.Uninjured'] = df_clean_rows['Total.Uninjured'].fillna(0)\n",
    "\n",
    "\n",
    "total_passengers = df_clean_rows['Total.Fatal.Injuries'] + df_clean_rows['Total.Serious.Injuries'] + df_clean_rows['Total.Minor.Injuries'] + df_clean_rows['Total.Uninjured']\n",
    "df_clean_rows['Make and Model']= df_clean_rows['Make']+\"-\"+df_clean_rows['Model']\n",
    "\n",
    "\n",
    "df_clean_rows['Total_passengers'] = total_passengers\n",
    "Safe_pass = (df_clean_rows['Total.Minor.Injuries'] + df_clean_rows['Total.Uninjured']) / (df_clean_rows['Total_passengers']) * 100\n",
    "Injured_pass = (df_clean_rows['Total.Serious.Injuries'] / df_clean_rows['Total_passengers']) * 100\n",
    "dead_pass = (df_clean_rows['Total.Fatal.Injuries'] / df_clean_rows['Total_passengers']) * 100\n",
    "\n",
    "df_clean_rows['Fatality_Pecentage'] = dead_pass\n",
    "df_clean_rows['Serious_Inj_Percentage'] = Injured_pass\n",
    "df_clean_rows['Minor/NonInj_Percentage'] = Safe_pass\n",
    "\n",
    "df_clean_pass_nas = df_clean_rows.dropna(subset= ['Total_passengers'])\n",
    "df_clean_pass_nas.info()"
   ]
  },
  {
   "cell_type": "code",
   "execution_count": 13,
   "metadata": {},
   "outputs": [
    {
     "name": "stdout",
     "output_type": "stream",
     "text": [
      "<class 'pandas.core.frame.DataFrame'>\n",
      "Index: 79118 entries, 0 to 88888\n",
      "Data columns (total 26 columns):\n",
      " #   Column                   Non-Null Count  Dtype         \n",
      "---  ------                   --------------  -----         \n",
      " 0   Investigation.Type       79118 non-null  object        \n",
      " 1   Event.Date               79118 non-null  datetime64[ns]\n",
      " 2   Location                 79077 non-null  object        \n",
      " 3   Country                  78902 non-null  object        \n",
      " 4   Injury.Severity          79118 non-null  object        \n",
      " 5   Aircraft.damage          76555 non-null  object        \n",
      " 6   Aircraft.Category        27748 non-null  object        \n",
      " 7   Make                     79093 non-null  object        \n",
      " 8   Model                    79077 non-null  object        \n",
      " 9   Amateur.Built            79053 non-null  object        \n",
      " 10  Number.of.Engines        74257 non-null  float64       \n",
      " 11  Engine.Type              73330 non-null  object        \n",
      " 12  Schedule                 11704 non-null  object        \n",
      " 13  Total.Fatal.Injuries     79118 non-null  float64       \n",
      " 14  Total.Serious.Injuries   79118 non-null  float64       \n",
      " 15  Total.Minor.Injuries     79118 non-null  float64       \n",
      " 16  Total.Uninjured          79118 non-null  float64       \n",
      " 17  Weather.Condition        75791 non-null  object        \n",
      " 18  Broad.phase.of.flight    56152 non-null  object        \n",
      " 19  Report.Status            74025 non-null  object        \n",
      " 20  Year                     79118 non-null  int32         \n",
      " 21  Make and Model           79073 non-null  object        \n",
      " 22  Total_passengers         79118 non-null  float64       \n",
      " 23  Fatality_Pecentage       79118 non-null  float64       \n",
      " 24  Serious_Inj_Percentage   79118 non-null  float64       \n",
      " 25  Minor/NonInj_Percentage  79118 non-null  float64       \n",
      "dtypes: datetime64[ns](1), float64(9), int32(1), object(15)\n",
      "memory usage: 16.0+ MB\n"
     ]
    }
   ],
   "source": [
    "\n",
    "\n",
    "df_clean_pass_zeros = df_clean_pass_nas.drop(df_clean_pass_nas[df_clean_pass_nas['Total_passengers'] == 0].index, axis = 0)\n",
    "df_clean_pass_zeros.info()"
   ]
  },
  {
   "cell_type": "code",
   "execution_count": 14,
   "metadata": {},
   "outputs": [],
   "source": [
    "df_clean_pass_zeros.to_csv('AviationDataCleaned.csv')"
   ]
  }
 ],
 "metadata": {
  "kernelspec": {
   "display_name": "Python 3 (ipykernel)",
   "language": "python",
   "name": "python3"
  },
  "language_info": {
   "codemirror_mode": {
    "name": "ipython",
    "version": 3
   },
   "file_extension": ".py",
   "mimetype": "text/x-python",
   "name": "python",
   "nbconvert_exporter": "python",
   "pygments_lexer": "ipython3",
   "version": "3.11.5"
  }
 },
 "nbformat": 4,
 "nbformat_minor": 4
}

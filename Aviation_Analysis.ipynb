{
 "cells": [
  {
   "cell_type": "code",
   "execution_count": null,
   "metadata": {},
   "outputs": [],
   "source": [
    "import pandas as pd\n",
    "import numpy as np\n",
    "import matplotlib.pyplot as plt\n",
    "import matplotlib\n",
    "import csv\n",
    "import seaborn as sns\n",
    "import string"
   ]
  },
  {
   "cell_type": "code",
   "execution_count": null,
   "metadata": {},
   "outputs": [],
   "source": [
    "#Defining function to clean up dups from key field 'Make'\n",
    "def func(x):\n",
    "    punc = '''-!()[]{};:'\",<>./?@#$%^&*~'''\n",
    "    for ele in str(x):\n",
    "        if ele in punc:\n",
    "            x = str(x).replace(ele, \"\")\n",
    "    x = str(x).title()\n",
    "    x = x.replace(\" Inc\",\"\")\n",
    "    x = x.replace(\" Corp\",\"\")\n",
    "    x = x.replace(\" Co\",\"\")\n",
    "    x = x.replace(\"Airborne Windsports\",\"Airborne_Windsports\")\n",
    "    x = x.replace(\"Airborne Windsport\",\"Airborne_Windsports\")\n",
    "    x = x.replace(\"Airborne_Windsports Ltd\",\"Airborne_Windsports\")\n",
    "    x = x.replace(\"Airborne_Windsports Pty Ltd\",\"Airborne_Windsports\")\n",
    "    x = x.replace(\"Air Borne Windsports Pty Ltd\",\"Airborne_Windsports\")\n",
    "    x = x.replace(\"Airbus Industrie\",\"Airbus\")\n",
    "    x = x.replace(\"Airbuss\",\"Airbus\")\n",
    "    x = x.replace(\"Boeingmpany\",\"Boeing\")\n",
    "    x = x.replace(\"The Boeingmpany\",\"Boeing\")\n",
    "    x = x.replace(\"The Boeing\",\"Boeing\")\n",
    "    x = x.replace(\"Brantley\",\"Brantly\")\n",
    "    x = x.replace(\"Mcdonnell Douglasoration\",\"Mcdonnell_Douglas\")\n",
    "    x = x.replace(\"Mcdonald Douglas\",\"Mcdonnell_Douglas\")\n",
    "    x = x.replace(\"Mcdonnell-Douglas\",\"Mcdonnell_Douglas\")\n",
    "    x = x.replace(\"Mcdonnell Douglas Aircraft\",\"Mcdonnell_Douglas\")\n",
    "    x = x.replace(\"Douglas\",\"Mcdonnell_Douglas\")\n",
    "    x = x.replace(\"Mcdonnell Mcdonnell_Douglas\",\"Mcdonnell_Douglas\")\n",
    "    x = x.replace(\"Saabscania\",\"Saab_Scania\")\n",
    "    x = x.replace(\"Saab-Scania Ab Saab\",\"Saab_Scania\")\n",
    "    x = x.replace(\"Saabscania Ab Saab\",\"Saab_Scania\")\n",
    "    x = x.replace(\"Saab-Scania\",\"Saab_Scania\")\n",
    "    x = x.replace(\"Saab_Scania Ab Saab\",\"Saab_Scania\")\n",
    "    x = x.replace(\"Waco\",\"Waco_Classic_Aircraft\")\n",
    "    x = x.replace(\"Classic Aircraft\",\"Waco_Classic_Aircraft\")\n",
    "    x = x.replace(\"Waco Classic Aircraft\",\"Waco_Classic_Aircraft\")\n",
    "    x = x.replace(\"Waco_Classic_Aircraft Waco_Classic_Aircraft\",\"Waco_Classic_Aircraft\")\n",
    "    x = x.replace(\"Schweitzer\",\"Schweizer\")\n",
    "    x = x.replace(\"Schewizer\",\"Schweizer\")\n",
    "    x = x.replace(\"Pm Aviation Ltd\",\"Pm Aviation\")\n",
    "    x = x.replace(\"Schleicher Alexander Gmbh \",\"Schleicher Alexander Gmbh\")\n",
    "       \n",
    "    return x"
   ]
  },
  {
   "cell_type": "code",
   "execution_count": null,
   "metadata": {},
   "outputs": [],
   "source": [
    "#Cleaning up dups from key fields and downstream dependency & imputing weather condition field for further analysis\n",
    "df = pd.read_csv('AviationDataCleaned.csv',low_memory=False)\n",
    "df['Make'] = df['Make'].apply(func)\n",
    "df['Model'] = df['Model'].apply(func)\n",
    "df['Make and Model']=df['Make and Model']= df['Make']+\"-\"+df['Model'] \n",
    "df['Weather.Condition'] = df['Weather.Condition'].fillna('UNK').apply(lambda x: str(x).upper())\n",
    "df['Weather.Condition'].unique()"
   ]
  },
  {
   "cell_type": "code",
   "execution_count": null,
   "metadata": {},
   "outputs": [],
   "source": [
    "#inspecting the Make column to make sure it is cleaned up appropriately\n",
    "make_list=list(df['Make'].unique())\n",
    "make_list.sort()\n",
    "print(make_list)"
   ]
  },
  {
   "cell_type": "code",
   "execution_count": null,
   "metadata": {},
   "outputs": [],
   "source": [
    "#coming up with makes with at least 10 records to consider as major makes to narrow down data set\n",
    "major_index = df['Make'].value_counts(ascending=False)>10\n",
    "major_makes_dict={'makes':list(major_index.index),'bools':list(major_index.values)}\n",
    "major_makes = pd.DataFrame(major_makes_dict)\n",
    "major_makes_list=major_makes.loc[major_makes['bools']==True,'makes']\n",
    "df_major=df[df['Make'].isin(major_makes_list)]"
   ]
  },
  {
   "cell_type": "code",
   "execution_count": null,
   "metadata": {},
   "outputs": [],
   "source": [
    "#inspecting the size of narrowed down data set\n",
    "df[df['Make'].isin(major_makes_list)].shape"
   ]
  },
  {
   "cell_type": "code",
   "execution_count": null,
   "metadata": {},
   "outputs": [],
   "source": [
    "type(df_major.groupby('Make').agg(lambda x: np.mean(x)))"
   ]
  },
  {
   "cell_type": "code",
   "execution_count": null,
   "metadata": {
    "scrolled": true
   },
   "outputs": [],
   "source": [
    "#Coming up with makes that are considered safest based on the safety metric aka with the highest average percentage of passengers with no or minor injury\n",
    "#Then Slicing the dataset with the these makes and a known weather condition for further analysis  \n",
    "df_major_make_mean = df_major.groupby('Make').mean().sort_values(by=['Minor/NonInj_Percentage'],axis=0,ascending=False)\n",
    "safest_makes=list(df_major_make_mean.head(15).index)\n",
    "df_safest = df[df['Make'].isin(safest_makes)]\n",
    "\n",
    "df_safest_makes=df_safest[df_safest['Weather.Condition'].isin(['IMC','VMC'])]\n",
    "df_safest_makes[['Make']]=df_safest_makes[['Make']].astype('category')\n",
    "df_safest_makes.info()"
   ]
  },
  {
   "cell_type": "code",
   "execution_count": null,
   "metadata": {
    "scrolled": true
   },
   "outputs": [],
   "source": [
    "#just inspecting the stats of these makes \n",
    "df_major_make_mean.head(15)"
   ]
  },
  {
   "cell_type": "code",
   "execution_count": null,
   "metadata": {
    "scrolled": false
   },
   "outputs": [],
   "source": [
    "#plot to demonstrate the safest makes and their safety metrics\n",
    "fig, ax = plt.subplots(figsize = (20,10))\n",
    "sns.barplot(x='Make',y='Minor/NonInj_Percentage',data=df_safest,order=list(safest_makes))\n",
    "ax.set_title('Aircraft Makes with the Highest Safety Metrics', fontsize = 30 )\n",
    "ax.set_xlabel('Makes of Aircrafts', fontsize = 20)\n",
    "ax.set_ylabel('Average % of Passengers with No or Minor Injuries', fontsize = 14)\n",
    "ax.tick_params(axis = 'x', rotation = 90, pad = -400, labelsize=20,colors='white')\n",
    "ax.axhline(y=85.797161, c ='b', linewidth = 2, linestyle = '--')\n",
    "plt.tight_layout()\n",
    "plt.show()\n"
   ]
  },
  {
   "cell_type": "code",
   "execution_count": null,
   "metadata": {},
   "outputs": [],
   "source": [
    "#making sure no percentages are negative....\n",
    "df_safest_makes[df_safest_makes['Minor/NonInj_Percentage']<0]"
   ]
  },
  {
   "cell_type": "code",
   "execution_count": null,
   "metadata": {},
   "outputs": [],
   "source": [
    "df1=df_safest_makes[df_safest_makes['Make']=='Waco_Classic_Aircraft']\n",
    "df2=df1[df1['Weather.Condition']=='IMC']\n",
    "df2"
   ]
  },
  {
   "cell_type": "code",
   "execution_count": null,
   "metadata": {
    "scrolled": true
   },
   "outputs": [],
   "source": [
    "df3=df_safest_makes[df_safest_makes['Make']=='Dassaultbreguet']\n",
    "df4=df3[df3['Weather.Condition']=='IMC']\n",
    "df4"
   ]
  },
  {
   "cell_type": "code",
   "execution_count": null,
   "metadata": {},
   "outputs": [],
   "source": [
    "df5=df_safest_makes[df_safest_makes['Make']=='Grummanschweizer']\n",
    "df6=df5[df5['Weather.Condition']=='IMC']\n",
    "df6"
   ]
  },
  {
   "cell_type": "code",
   "execution_count": null,
   "metadata": {},
   "outputs": [],
   "source": [
    "df7=df_safest_makes[df_safest_makes['Make']=='Evektoraerotechnik As']\n",
    "df8=df7[df7['Weather.Condition']=='IMC']\n",
    "df8"
   ]
  },
  {
   "cell_type": "code",
   "execution_count": null,
   "metadata": {},
   "outputs": [],
   "source": [
    "index_to_drop=[list(df2.index)[0],list(df2.index)[1],list(df4.index)[0],list(df4.index)[1],list(df4.index)[2],list(df6.index)[0],list(df8.index)[0]]\n",
    "df_safest_makes=df_safest_makes.drop(index_to_drop)"
   ]
  },
  {
   "cell_type": "code",
   "execution_count": null,
   "metadata": {},
   "outputs": [],
   "source": [
    "weather_map={'IMC':'Instrument meteorological conditions - less visibility','VMC':'Visual meteorological conditions - normal visibility'}\n",
    "df_safest_makes=df_safest_makes.replace({'Weather.Condition':weather_map})"
   ]
  },
  {
   "cell_type": "code",
   "execution_count": null,
   "metadata": {},
   "outputs": [],
   "source": [
    "#plot to analyze the distribution of safety metric for the safest makes based on weather condition\n",
    "fig, ax = plt.subplots(figsize = (25,10))\n",
    "sns.violinplot(x='Make',y='Minor/NonInj_Percentage',data = df_safest_makes,order=list(safest_makes),hue='Weather.Condition', ax = ax, split = True, cut=0)\n",
    "ax.set_title('Distributions of Safety Metrics by Weather Conditions', fontsize = 29, loc='center')\n",
    "ax.set_xlabel('Makes of Aircrafts', fontsize = 20)\n",
    "ax.set_ylabel('% of Passengers with No or Minor Injuries', fontsize = 20)\n",
    "ax.tick_params(axis = 'x', rotation = 70, labelsize=20,colors='black')\n",
    "plt.legend()\n",
    "ax.legend(loc = 'upper right',bbox_to_anchor=(1, 1.07))\n",
    "plt.show()"
   ]
  },
  {
   "cell_type": "code",
   "execution_count": null,
   "metadata": {},
   "outputs": [],
   "source": [
    "#Used to inpsect makes with no IMC weather hue distributions to confirm they are not suitable for recommendation. \n",
    "#These are generally small makes that are more impacted by adverse weather conditions and therefore less versatile and profitable\n",
    "df[df['Make']=='American Legend Aircraft']['Total_passengers'].describe()"
   ]
  },
  {
   "cell_type": "code",
   "execution_count": null,
   "metadata": {},
   "outputs": [],
   "source": [
    "# coming up with the list of recommended makes that are more weather resilient and predictable in safety metric (less dispersed in distribution)\n",
    "recommended_makes=['Bombardier','Saab_Scania','Boeing']\n",
    "#slicing the data set with recommeded makes for specific model recommendations\n",
    "len(df[df['Make'].isin(recommended_makes)])"
   ]
  },
  {
   "cell_type": "code",
   "execution_count": null,
   "metadata": {},
   "outputs": [],
   "source": [
    "#Coming up with specific recommended models with 100% minor or no injury rates that holds at least 10 passengers\n",
    "df_subset_makenmodel_mean = df[df['Make'].isin(recommended_makes)].groupby('Make and Model').mean()\n",
    "df_recommended_makemodels=df_subset_makenmodel_mean[df_subset_makenmodel_mean['Minor/NonInj_Percentage']==100]\n",
    "df_recommended_makenmodels=df_recommended_makemodels[df_recommended_makemodels['Total_passengers']>10]\n",
    "recommended_makenmodels=list(df_recommended_makenmodels.index)\n",
    "recommended_makenmodels"
   ]
  },
  {
   "cell_type": "code",
   "execution_count": null,
   "metadata": {},
   "outputs": [],
   "source": [
    "#Creating dataset filtered for recommended makes and models\n",
    "df_recommended_makes=df[df['Make'].isin(recommended_makes)]\n",
    "df_recommended_makenmodels=df[df['Make and Model'].isin(recommended_makenmodels)]"
   ]
  },
  {
   "cell_type": "code",
   "execution_count": null,
   "metadata": {},
   "outputs": [],
   "source": [
    "#Outputting recommedations as csvs\n",
    "df_recommended_makenmodels.to_csv('AviationDataCleaned_RecommendedModel.csv')\n",
    "df_recommended_makes.to_csv('AviationDataCleaned_RecommendedMakes.csv')"
   ]
  },
  {
   "cell_type": "markdown",
   "metadata": {},
   "source": [
    "### Regional Analysis"
   ]
  },
  {
   "cell_type": "code",
   "execution_count": null,
   "metadata": {},
   "outputs": [],
   "source": [
    "# Bring in CSV that Sunny's notebook outputs\n",
    "df = pd.read_csv('AviationDataCleaned_RecommendedMakes.csv',index_col=0)\n",
    "\n",
    "# Display charts inline for easy reading\n",
    "%matplotlib inline"
   ]
  },
  {
   "cell_type": "markdown",
   "metadata": {},
   "source": [
    "#### Rename an unnamed column that was breaking Tableau import later on"
   ]
  },
  {
   "cell_type": "code",
   "execution_count": null,
   "metadata": {},
   "outputs": [],
   "source": [
    "df.rename(columns={\"Unnamed: 0\":\"F1\"},inplace=True)"
   ]
  },
  {
   "cell_type": "markdown",
   "metadata": {},
   "source": [
    "#### Create a subset of the DF that has only US accidents"
   ]
  },
  {
   "cell_type": "code",
   "execution_count": null,
   "metadata": {},
   "outputs": [],
   "source": [
    "df_us = df[df['Country'] == 'United States']\n",
    "df_us.reset_index(drop=True, inplace=True)\n",
    "\n",
    "# Create a copy of the DF so I don't destroy the original on accident downstream\n",
    "df_us = df_us.copy()"
   ]
  },
  {
   "cell_type": "markdown",
   "metadata": {},
   "source": [
    "### Create City, State, and Region columns based on the Location column \n",
    "\n",
    "* First we need a list of valid state codes to verify that the location has a valid US states\n",
    "* Next we'll create a state-region map that will assign a region to the corresponding State"
   ]
  },
  {
   "cell_type": "code",
   "execution_count": null,
   "metadata": {},
   "outputs": [],
   "source": [
    "states = [\n",
    "    'AL', 'AK', 'AZ', 'AR', 'CA', 'CO', 'CT', 'DE', 'FL', 'GA', \n",
    "    'HI', 'ID', 'IL', 'IN', 'IA', 'KS', 'KY', 'LA', 'ME', 'MD', \n",
    "    'MA', 'MI', 'MN', 'MS', 'MO', 'MT', 'NE', 'NV', 'NH', 'NJ', \n",
    "    'NM', 'NY', 'NC', 'ND', 'OH', 'OK', 'OR', 'PA', 'RI', 'SC', \n",
    "    'SD', 'TN', 'TX', 'UT', 'VT', 'VA', 'WA', 'WV', 'WI', 'WY'\n",
    "]\n",
    "\n",
    "state_region_map = {\n",
    "    'ME': 'Northeast', 'NH': 'Northeast', 'VT': 'Northeast', 'MA': 'Northeast',\n",
    "    'RI': 'Northeast', 'CT': 'Northeast', 'NY': 'Northeast', 'PA': 'Northeast', 'NJ': 'Northeast',\n",
    "    'WI': 'Midwest', 'MI': 'Midwest', 'IL': 'Midwest', 'IN': 'Midwest', 'OH': 'Midwest',\n",
    "    'ND': 'Midwest', 'SD': 'Midwest', 'NE': 'Midwest', 'KS': 'Midwest', 'MN': 'Midwest', 'IA': 'Midwest', 'MO': 'Midwest',\n",
    "    'DE': 'South', 'MD': 'South', 'DC': 'South', 'VA': 'South', 'WV': 'South', 'NC': 'South', 'SC': 'South', \n",
    "    'GA': 'South', 'FL': 'South', 'KY': 'South', 'TN': 'South', 'MS': 'South', 'AL': 'South', 'OK': 'South', \n",
    "    'TX': 'South', 'AR': 'South', 'LA': 'South',\n",
    "    'ID': 'West', 'MT': 'West', 'WY': 'West', 'NV': 'West', 'UT': 'West', 'CO': 'West', 'AZ': 'West', \n",
    "    'NM': 'West', 'AK': 'West', 'WA': 'West', 'OR': 'West', 'CA': 'West', 'HI': 'West'\n",
    "}\n",
    "\n",
    "def city_state(location):\n",
    "    if pd.notna(location):\n",
    "        location = location.strip()\n",
    "        state = location[-2:].upper()\n",
    "        city = location[:-4].strip().title()\n",
    "        if state in states:\n",
    "            return city, state\n",
    "        else:\n",
    "            return location, \"No State\"\n",
    "    else:\n",
    "        return np.nan, np.nan\n",
    "\n",
    "df_us[['City', 'State']] = df_us['Location'].apply(city_state).apply(pd.Series)\n",
    "\n",
    "df_us['Region'] = df_us['State'].apply(lambda x: state_region_map.get(x))"
   ]
  },
  {
   "cell_type": "code",
   "execution_count": null,
   "metadata": {},
   "outputs": [],
   "source": [
    "df_us = df_us[(df_us['State'] != 'No State') & (df_us['Year']>=1984)]\n",
    "\n",
    "# Average Minor Injury % by Year & Region\n",
    "grouped_data = df_us.groupby(['Year', 'Region'])['Minor/NonInj_Percentage'].mean().reset_index(name='Count')\n",
    "\n",
    "pivot_data = grouped_data.pivot(index='Year', columns='Region', values='Count')\n",
    "\n",
    "pivot_data.plot(kind='line')  # Use 'bar' for bar plot\n",
    "plt.title('Total Count of Rows Year over Year by State')\n",
    "plt.xlabel('Year')\n",
    "plt.ylabel('Count')\n",
    "\n",
    "plt.show()"
   ]
  },
  {
   "cell_type": "code",
   "execution_count": null,
   "metadata": {},
   "outputs": [],
   "source": [
    "col_selector = ['Region', 'Minor/NonInj_Percentage', 'Serious_Inj_Percentage', 'Fatality_Pecentage']\n",
    "total_new = df_us[col_selector].groupby('Region').mean()\n",
    "# total_new['Total'] = totals\n",
    "\n",
    "total_new"
   ]
  },
  {
   "cell_type": "code",
   "execution_count": null,
   "metadata": {},
   "outputs": [],
   "source": [
    "melted_df = total_new.melt(var_name='Category', value_name='Value')\n",
    "\n",
    "melted_df = total_new.melt(var_name='Category', value_name='Value')\n",
    "\n",
    "# Create a bar plot with catplot\n",
    "sns.catplot(x='Category', y='Value', hue='Category', data=melted_df, kind='bar')\n",
    "\n",
    "# Adding labels and title\n",
    "plt.xlabel('X-axis Label')\n",
    "plt.xticks(rotation=45)\n",
    "plt.ylabel('Y-axis Label')\n",
    "plt.title('Side-by-Side Bar Chart')\n",
    "\n",
    "# Display the plot\n",
    "\n",
    "plt.show()"
   ]
  },
  {
   "cell_type": "code",
   "execution_count": null,
   "metadata": {
    "scrolled": true
   },
   "outputs": [],
   "source": [
    "plt.bar(total_new.index, total_new['Fatality_Pecentage'])\n",
    "\n",
    "plt.bar(total_new.index, total_new['Serious_Inj_Percentage'], label='Serious Injury Percentage', bottom=total_new['Fatality_Pecentage'])"
   ]
  },
  {
   "cell_type": "markdown",
   "metadata": {},
   "source": [
    "### Export this finalized CSV to upload to Tableau "
   ]
  },
  {
   "cell_type": "code",
   "execution_count": null,
   "metadata": {},
   "outputs": [],
   "source": [
    "\n",
    "df_us.to_csv('US_Accidents.csv')"
   ]
  },
  {
   "cell_type": "markdown",
   "metadata": {},
   "source": [
    "## Pricing Analysis"
   ]
  },
  {
   "cell_type": "code",
   "execution_count": null,
   "metadata": {},
   "outputs": [],
   "source": [
    "#import pricing mapping\n",
    "\n",
    "price_df = pd.read_csv('Price_df.csv',low_memory=False)\n",
    "price_df"
   ]
  },
  {
   "cell_type": "code",
   "execution_count": null,
   "metadata": {},
   "outputs": [],
   "source": [
    "#Removing daptapoints with no values\n",
    "\n",
    "price_df_clean = price_df[price_df['Passengers'] != 0]\n",
    "price_df_clean\n"
   ]
  },
  {
   "cell_type": "code",
   "execution_count": null,
   "metadata": {},
   "outputs": [],
   "source": [
    "#making a calculation column\n",
    "\n",
    "ppp = (price_df_clean['Price'] / price_df_clean['Passengers'])\n",
    "\n",
    "#reformatting the data so it looks better / not in scientific notation\n",
    "\n",
    "pd.options.display.float_format = '{:.0f}'.format\n",
    "    \n",
    "price_df_clean['Price Per Passenger'] = ppp\n",
    "price_df_clean['Price Per Passenger'].astype('category')\n",
    "price_df_clean['Passengers'].astype('category')\n",
    "price_df_clean\n",
    "\n",
    "#Separating out the size tranches\n",
    "\n",
    "best_high = price_df_clean[price_df_clean['Passengers'] >= 100]\n",
    "best_high = best_high[best_high['Price Per Passenger'] <= 400000]\n",
    "best_high_sorted = best_high.sort_values('Price Per Passenger')\n",
    "\n",
    "best_mid = (price_df_clean[price_df_clean['Passengers'] <= 100]) \n",
    "best_mid = best_mid[best_mid['Passengers'] >= 50]\n",
    "best_mid = best_mid[best_mid['Price Per Passenger'] <= 100000000]\n",
    "best_mid_sorted = best_mid.sort_values('Price Per Passenger')\n",
    "\n",
    "\n",
    "best_low = price_df_clean[price_df_clean['Passengers'] <= 50]\n",
    "best_low = best_low[best_low['Price Per Passenger'] <= 100000000]\n",
    "best_low_sorted = best_low.sort_values('Price Per Passenger')\n",
    "\n",
    "\n",
    "best_low_sorted"
   ]
  },
  {
   "cell_type": "code",
   "execution_count": null,
   "metadata": {},
   "outputs": [],
   "source": [
    "title = 'Cost Effectiveness of Large Safe Aircraft'\n",
    "Model_Label = 'Model'\n",
    "PPP_label = 'Price Per Seat'\n",
    "\n",
    "tackle_figure, ax = plt.subplots(figsize=(15, 6))\n",
    "\n",
    "Model = best_high_sorted['Model']\n",
    "PPP = best_high_sorted['Price Per Passenger']\n",
    "\n",
    "ax.bar(Model,PPP)\n",
    "ax.set_xlabel(Model_Label)\n",
    "ax.set_ylabel(PPP_label)\n",
    "ax.set_title(title)\n",
    "\n",
    "\n",
    "plt.tight_layout()\n",
    "plt.show()"
   ]
  },
  {
   "cell_type": "code",
   "execution_count": null,
   "metadata": {},
   "outputs": [],
   "source": [
    "title = 'Cost Effectiveness of Mid Safe Aircraft'\n",
    "Model_Label = 'Model'\n",
    "PPP_label = 'Price Per Seat'\n",
    "\n",
    "Plane_figure, ax = plt.subplots(figsize=(15, 6))\n",
    "\n",
    "Model = best_mid_sorted['Model']\n",
    "PPP = best_mid_sorted['Price Per Passenger']\n",
    "xtick = 10000\n",
    "ax.bar(Model,PPP)\n",
    "ax.set_xlabel(Model_Label)\n",
    "ax.set_ylabel(PPP_label)\n",
    "ax.set_title(title)\n",
    "ax.get_yaxis().set_major_formatter(\n",
    "    matplotlib.ticker.FuncFormatter(lambda x, p: format(int(x), ',')))\n",
    "\n",
    "plt.tight_layout()\n",
    "plt.show()\n",
    "ax.get_yticks()"
   ]
  },
  {
   "cell_type": "code",
   "execution_count": null,
   "metadata": {},
   "outputs": [],
   "source": [
    "title = 'Cost Effectiveness of Small Safe Aircraft'\n",
    "Model_Label = 'Model'\n",
    "PPP_label = 'Price Per Seat'\n",
    "\n",
    "small_figure, ax = plt.subplots(figsize=(15, 6))\n",
    "\n",
    "Model = best_low_sorted['Model']\n",
    "PPP = best_low_sorted['Price Per Passenger']\n",
    "\n",
    "ax.bar(Model,PPP)\n",
    "ax.set_xlabel(Model_Label)\n",
    "ax.set_ylabel(PPP_label)\n",
    "ax.set_title(title)\n",
    "ax.get_yaxis().set_major_formatter(\n",
    "    matplotlib.ticker.FuncFormatter(lambda x, p: format(int(x), ',')))\n",
    "\n",
    "plt.tight_layout()\n",
    "plt.show()"
   ]
  }
 ],
 "metadata": {
  "kernelspec": {
   "display_name": "Python (learn-env)",
   "language": "python",
   "name": "learn-env"
  },
  "language_info": {
   "codemirror_mode": {
    "name": "ipython",
    "version": 3
   },
   "file_extension": ".py",
   "mimetype": "text/x-python",
   "name": "python",
   "nbconvert_exporter": "python",
   "pygments_lexer": "ipython3",
   "version": "3.8.5"
  }
 },
 "nbformat": 4,
 "nbformat_minor": 4
}
